{
 "cells": [
  {
   "cell_type": "markdown",
   "metadata": {},
   "source": [
    "# CNN MNIST\n",
    "\n",
    "Implement CNN on MNIST dataset"
   ]
  },
  {
   "cell_type": "code",
   "execution_count": 23,
   "metadata": {
    "collapsed": true
   },
   "outputs": [],
   "source": [
    "import tensorflow as tf"
   ]
  },
  {
   "cell_type": "code",
   "execution_count": 24,
   "metadata": {
    "collapsed": true
   },
   "outputs": [],
   "source": [
    "from tensorflow.examples.tutorials.mnist import input_data"
   ]
  },
  {
   "cell_type": "code",
   "execution_count": 25,
   "metadata": {},
   "outputs": [
    {
     "name": "stdout",
     "output_type": "stream",
     "text": [
      "Extracting MNIST_data/train-images-idx3-ubyte.gz\n",
      "Extracting MNIST_data/train-labels-idx1-ubyte.gz\n",
      "Extracting MNIST_data/t10k-images-idx3-ubyte.gz\n",
      "Extracting MNIST_data/t10k-labels-idx1-ubyte.gz\n"
     ]
    }
   ],
   "source": [
    "mnist = input_data.read_data_sets(\"MNIST_data/\", one_hot=True)"
   ]
  },
  {
   "cell_type": "code",
   "execution_count": 26,
   "metadata": {
    "collapsed": true
   },
   "outputs": [],
   "source": [
    "# HELPER FUNCTIONS\n",
    "\n",
    "# INIT WEIGHTS\n",
    "\n",
    "# INIT BIAS\n",
    "\n",
    "# CONV2D\n",
    "\n",
    "# POOLING"
   ]
  },
  {
   "cell_type": "code",
   "execution_count": 27,
   "metadata": {
    "collapsed": true
   },
   "outputs": [],
   "source": [
    "# INIT WEIGHTS\n",
    "\n",
    "def init_weights(shape):\n",
    "    init_random_dist = tf.truncated_normal(shape, stddev=0.1)\n",
    "    return tf.Variable(init_random_dist)"
   ]
  },
  {
   "cell_type": "code",
   "execution_count": 28,
   "metadata": {
    "collapsed": true
   },
   "outputs": [],
   "source": [
    "# INIT BIAS\n",
    "\n",
    "def init_bias(shape):\n",
    "    init_bias_vals = tf.constant(0.1, shape=shape)\n",
    "    return tf.Variable(init_bias_vals)"
   ]
  },
  {
   "cell_type": "code",
   "execution_count": 29,
   "metadata": {
    "collapsed": true
   },
   "outputs": [],
   "source": [
    "# CONV2D\n",
    "\n",
    "def conv2d(x, W):\n",
    "    # x --> [batch, Height, Width, Channels]\n",
    "    # W --> [filter H, filter W, Channels IN, Channels OUT]\n",
    "    \n",
    "    return tf.nn.conv2d(x,W, strides=[1,1,1,1], padding='SAME')"
   ]
  },
  {
   "cell_type": "code",
   "execution_count": 30,
   "metadata": {
    "collapsed": true
   },
   "outputs": [],
   "source": [
    "# POOLING\n",
    "\n",
    "def max_pool_2by2(x):\n",
    "    # x --> [batch, Height, Width, Channels]\n",
    "    \n",
    "    return tf.nn.max_pool(x, ksize=[1,2,2,1], strides=[1,2,2,1], padding='SAME')"
   ]
  },
  {
   "cell_type": "code",
   "execution_count": 31,
   "metadata": {
    "collapsed": true
   },
   "outputs": [],
   "source": [
    "# CONVOLUTIONAL LAYER\n",
    "\n",
    "def convolutional_layer(input_x, shape):\n",
    "    W = init_weights(shape)\n",
    "    b = init_bias([shape[3]])\n",
    "    \n",
    "    return tf.nn.relu(conv2d(input_x, W) + b)"
   ]
  },
  {
   "cell_type": "code",
   "execution_count": 32,
   "metadata": {
    "collapsed": true
   },
   "outputs": [],
   "source": [
    "# NORMAL NN\n",
    "\n",
    "def normal_full_layer(input_layer, size):\n",
    "    input_size = int(input_layer.get_shape()[1])\n",
    "    W = init_weights([input_size, size])\n",
    "    b = init_bias([size])\n",
    "    \n",
    "    return tf.matmul(input_layer, W) + b"
   ]
  },
  {
   "cell_type": "code",
   "execution_count": 33,
   "metadata": {
    "collapsed": true
   },
   "outputs": [],
   "source": [
    "# PLACEHOLDERS\n",
    "\n",
    "x = tf.placeholder(tf.float32, shape=[None, 784])\n",
    "y_true = tf.placeholder(tf.float32, shape= [None, 10])"
   ]
  },
  {
   "cell_type": "code",
   "execution_count": 34,
   "metadata": {
    "collapsed": true
   },
   "outputs": [],
   "source": [
    "# LAYERS\n",
    "\n",
    "x_image = tf.reshape(x, [-1, 28,28, 1])"
   ]
  },
  {
   "cell_type": "code",
   "execution_count": 35,
   "metadata": {
    "collapsed": true
   },
   "outputs": [],
   "source": [
    "# CONVOLUTION LAYERS\n",
    "\n",
    "convo_1 = convolutional_layer(x_image, shape=[5,5,1,32])\n",
    "convo_1_pooling = max_pool_2by2(convo_1)\n",
    "\n",
    "convo_2 = convolutional_layer(convo_1_pooling, shape=[5,5,32,64])\n",
    "convo_2_pooling = max_pool_2by2(convo_2)"
   ]
  },
  {
   "cell_type": "code",
   "execution_count": 36,
   "metadata": {
    "collapsed": true
   },
   "outputs": [],
   "source": [
    "convo_2_flat = tf.reshape(convo_2_pooling, [-1, 7*7*64])\n",
    "full_layer_one = tf.nn.relu(normal_full_layer(convo_2_flat, 1024))"
   ]
  },
  {
   "cell_type": "code",
   "execution_count": 37,
   "metadata": {
    "collapsed": true
   },
   "outputs": [],
   "source": [
    "# DROPOUT\n",
    "\n",
    "hold_prob = tf.placeholder(tf.float32)\n",
    "full_one_dropout = tf.nn.dropout(full_layer_one, keep_prob= hold_prob)\n",
    "\n",
    "y_pred = normal_full_layer(full_one_dropout, 10)"
   ]
  },
  {
   "cell_type": "code",
   "execution_count": 38,
   "metadata": {
    "collapsed": true
   },
   "outputs": [],
   "source": [
    "# LOSS FUNCTION & OPTIMIZER\n",
    "\n",
    "cross_entropy = tf.reduce_mean(tf.nn.softmax_cross_entropy_with_logits(labels=y_true,logits=y_pred))\n",
    "optimizer = tf.train.AdamOptimizer(learning_rate=0.001)\n",
    "train = optimizer.minimize(cross_entropy)"
   ]
  },
  {
   "cell_type": "code",
   "execution_count": 39,
   "metadata": {
    "collapsed": true
   },
   "outputs": [],
   "source": [
    "init = tf.global_variables_initializer()"
   ]
  },
  {
   "cell_type": "code",
   "execution_count": 40,
   "metadata": {},
   "outputs": [
    {
     "name": "stdout",
     "output_type": "stream",
     "text": [
      "ON STEP : 0\n",
      "Accuracy: \n",
      "0.1055\n",
      "\n",
      "\n",
      "ON STEP : 100\n",
      "Accuracy: \n",
      "0.9427\n",
      "\n",
      "\n",
      "ON STEP : 200\n",
      "Accuracy: \n",
      "0.9639\n",
      "\n",
      "\n",
      "ON STEP : 300\n",
      "Accuracy: \n",
      "0.9692\n",
      "\n",
      "\n",
      "ON STEP : 400\n",
      "Accuracy: \n",
      "0.9745\n",
      "\n",
      "\n",
      "ON STEP : 500\n",
      "Accuracy: \n",
      "0.9787\n",
      "\n",
      "\n",
      "ON STEP : 600\n",
      "Accuracy: \n",
      "0.9767\n",
      "\n",
      "\n",
      "ON STEP : 700\n",
      "Accuracy: \n",
      "0.9806\n",
      "\n",
      "\n",
      "ON STEP : 800\n",
      "Accuracy: \n",
      "0.9823\n",
      "\n",
      "\n",
      "ON STEP : 900\n",
      "Accuracy: \n",
      "0.9842\n",
      "\n",
      "\n",
      "ON STEP : 1000\n",
      "Accuracy: \n",
      "0.9847\n",
      "\n",
      "\n",
      "ON STEP : 1100\n",
      "Accuracy: \n",
      "0.9824\n",
      "\n",
      "\n",
      "ON STEP : 1200\n",
      "Accuracy: \n",
      "0.9849\n",
      "\n",
      "\n",
      "ON STEP : 1300\n",
      "Accuracy: \n",
      "0.9869\n",
      "\n",
      "\n",
      "ON STEP : 1400\n",
      "Accuracy: \n",
      "0.9864\n",
      "\n",
      "\n",
      "ON STEP : 1500\n",
      "Accuracy: \n",
      "0.988\n",
      "\n",
      "\n",
      "ON STEP : 1600\n",
      "Accuracy: \n",
      "0.9848\n",
      "\n",
      "\n",
      "ON STEP : 1700\n",
      "Accuracy: \n",
      "0.9866\n",
      "\n",
      "\n",
      "ON STEP : 1800\n",
      "Accuracy: \n",
      "0.9848\n",
      "\n",
      "\n",
      "ON STEP : 1900\n",
      "Accuracy: \n",
      "0.9874\n",
      "\n",
      "\n",
      "ON STEP : 2000\n",
      "Accuracy: \n",
      "0.9856\n",
      "\n",
      "\n",
      "ON STEP : 2100\n",
      "Accuracy: \n",
      "0.9859\n",
      "\n",
      "\n",
      "ON STEP : 2200\n",
      "Accuracy: \n",
      "0.9864\n",
      "\n",
      "\n",
      "ON STEP : 2300\n",
      "Accuracy: \n",
      "0.9848\n",
      "\n",
      "\n",
      "ON STEP : 2400\n",
      "Accuracy: \n",
      "0.9865\n",
      "\n",
      "\n",
      "ON STEP : 2500\n",
      "Accuracy: \n",
      "0.9862\n",
      "\n",
      "\n",
      "ON STEP : 2600\n",
      "Accuracy: \n",
      "0.9894\n",
      "\n",
      "\n",
      "ON STEP : 2700\n",
      "Accuracy: \n",
      "0.988\n",
      "\n",
      "\n",
      "ON STEP : 2800\n",
      "Accuracy: \n",
      "0.9894\n",
      "\n",
      "\n",
      "ON STEP : 2900\n",
      "Accuracy: \n",
      "0.9818\n",
      "\n",
      "\n",
      "ON STEP : 3000\n",
      "Accuracy: \n",
      "0.9875\n",
      "\n",
      "\n",
      "ON STEP : 3100\n",
      "Accuracy: \n",
      "0.9886\n",
      "\n",
      "\n",
      "ON STEP : 3200\n",
      "Accuracy: \n",
      "0.9892\n",
      "\n",
      "\n",
      "ON STEP : 3300\n",
      "Accuracy: \n",
      "0.9895\n",
      "\n",
      "\n",
      "ON STEP : 3400\n",
      "Accuracy: \n",
      "0.9902\n",
      "\n",
      "\n",
      "ON STEP : 3500\n",
      "Accuracy: \n",
      "0.9876\n",
      "\n",
      "\n",
      "ON STEP : 3600\n",
      "Accuracy: \n",
      "0.9894\n",
      "\n",
      "\n",
      "ON STEP : 3700\n",
      "Accuracy: \n",
      "0.9875\n",
      "\n",
      "\n",
      "ON STEP : 3800\n",
      "Accuracy: \n",
      "0.987\n",
      "\n",
      "\n",
      "ON STEP : 3900\n",
      "Accuracy: \n",
      "0.9905\n",
      "\n",
      "\n",
      "ON STEP : 4000\n",
      "Accuracy: \n",
      "0.9897\n",
      "\n",
      "\n",
      "ON STEP : 4100\n",
      "Accuracy: \n",
      "0.9885\n",
      "\n",
      "\n",
      "ON STEP : 4200\n",
      "Accuracy: \n",
      "0.9908\n",
      "\n",
      "\n",
      "ON STEP : 4300\n",
      "Accuracy: \n",
      "0.9884\n",
      "\n",
      "\n",
      "ON STEP : 4400\n",
      "Accuracy: \n",
      "0.9881\n",
      "\n",
      "\n",
      "ON STEP : 4500\n",
      "Accuracy: \n",
      "0.9892\n",
      "\n",
      "\n",
      "ON STEP : 4600\n",
      "Accuracy: \n",
      "0.9908\n",
      "\n",
      "\n",
      "ON STEP : 4700\n",
      "Accuracy: \n",
      "0.9918\n",
      "\n",
      "\n",
      "ON STEP : 4800\n",
      "Accuracy: \n",
      "0.9896\n",
      "\n",
      "\n",
      "ON STEP : 4900\n",
      "Accuracy: \n",
      "0.9906\n",
      "\n",
      "\n"
     ]
    }
   ],
   "source": [
    "# SESSION\n",
    "\n",
    "steps = 5000\n",
    "\n",
    "with tf.Session() as sess:\n",
    "    \n",
    "    sess.run(init)\n",
    "    \n",
    "    for i in range(steps):\n",
    "        \n",
    "        batch_x, batch_y = mnist.train.next_batch(50)\n",
    "        \n",
    "        sess.run(train, feed_dict={x:batch_x, y_true:batch_y, hold_prob:0.5})\n",
    "        \n",
    "        if i%100 == 0:\n",
    "            \n",
    "            print(\"ON STEP : {}\".format(i))\n",
    "            print(\"Accuracy: \")\n",
    "            \n",
    "            matches = tf.equal(tf.argmax(y_pred, 1), tf.argmax(y_true, 1))\n",
    "            acc = tf.reduce_mean(tf.cast(matches, tf.float32))\n",
    "            \n",
    "            print(sess.run(acc, feed_dict={x:mnist.test.images, y_true: mnist.test.labels, hold_prob:1.0}))\n",
    "            print('\\n')"
   ]
  },
  {
   "cell_type": "code",
   "execution_count": null,
   "metadata": {
    "collapsed": true
   },
   "outputs": [],
   "source": [
    "    "
   ]
  }
 ],
 "metadata": {
  "kernelspec": {
   "display_name": "Python 3",
   "language": "python",
   "name": "python3"
  },
  "language_info": {
   "codemirror_mode": {
    "name": "ipython",
    "version": 3
   },
   "file_extension": ".py",
   "mimetype": "text/x-python",
   "name": "python",
   "nbconvert_exporter": "python",
   "pygments_lexer": "ipython3",
   "version": "3.5.4"
  }
 },
 "nbformat": 4,
 "nbformat_minor": 2
}
